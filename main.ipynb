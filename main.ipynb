{
 "cells": [
  {
   "cell_type": "code",
   "execution_count": 1,
   "id": "75d972c6",
   "metadata": {},
   "outputs": [],
   "source": [
    "import pandas as pd\n",
    "import matplotlib.pyplot as plt\n",
    "import pyomo.environ as pyo\n",
    "import numpy as np"
   ]
  },
  {
   "cell_type": "code",
   "execution_count": null,
   "id": "2bcf7dca",
   "metadata": {},
   "outputs": [],
   "source": [
    "from pyomo.opt import SolverFactory\n",
    "\n",
    "# Build model (your build_cvrp function)asd\n",
    "model = s#\n",
    "opt = {\n",
    "    \"WLSACCESSID\": '60760e28-aa6e-4c6c-af3f-469592dc6bec',\n",
    "    \"WLSSECRET\": '95fff45d-3d51-4958-b65c-7bbc487d2e09',\n",
    "    \"LICENSEID\": 2707350,\n",
    "}\n",
    "with SolverFactory(\n",
    "    'gurobi', solver_io='python', manage_env=True, options=opt\n",
    ") as solver:\n",
    "    solver.solve(\n",
    "        model,\n",
    "        tee=True,\n",
    "        options={\n",
    "            #\"Method\": 1,        # Dual Simplex (avoid barrier)\n",
    "            #\"Crossover\": 0,     # No crossover\n",
    "            #\"Presolve\": 2,\n",
    "            #\"MIPFocus\": 1,      # Focus on finding feasible routes\n",
    "            #\"Heuristics\": 0.2,\n",
    "            #\"Cuts\": 2,\n",
    "            #\"Symmetry\": 2,\n",
    "            \"TimeLimit\": 1200,\n",
    "            \"MIPGap\": 0.1,\n",
    "            # \"Threads\": 0,     # use all cores (uncomment if you want to pin threads)\n",
    "            # \"LogFile\": \"gurobi_cvrp.log\",\n",
    "        }\n",
    "    ) "
   ]
  }
 ],
 "metadata": {
  "kernelspec": {
   "display_name": ".conda",
   "language": "python",
   "name": "python3"
  },
  "language_info": {
   "codemirror_mode": {
    "name": "ipython",
    "version": 3
   },
   "file_extension": ".py",
   "mimetype": "text/x-python",
   "name": "python",
   "nbconvert_exporter": "python",
   "pygments_lexer": "ipython3",
   "version": "3.11.13"
  }
 },
 "nbformat": 4,
 "nbformat_minor": 5
}
