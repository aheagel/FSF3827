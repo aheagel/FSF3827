{
 "cells": [
  {
   "cell_type": "code",
   "execution_count": 13,
   "id": "8d91e431",
   "metadata": {},
   "outputs": [],
   "source": [
    "import pandas as pd\n",
    "import matplotlib.pyplot as plt\n",
    "import pyomo.environ as pyo\n",
    "import numpy as np\n",
    "from pyomo.opt import SolverFactory\n",
    "from parser import parse_tsplib\n",
    "from plotter import plot_tsp_solution, print_route_summary\n",
    "\n",
    "opt = { # Please dont steal my credentials\n",
    "    \"WLSACCESSID\": '60760e28-aa6e-4c6c-af3f-469592dc6bec',\n",
    "    \"WLSSECRET\": '95fff45d-3d51-4958-b65c-7bbc487d2e09',\n",
    "    \"LICENSEID\": 2707350,\n",
    "}"
   ]
  },
  {
   "cell_type": "markdown",
   "id": "4048309b",
   "metadata": {},
   "source": [
    "# Problem 1"
   ]
  },
  {
   "cell_type": "markdown",
   "id": "4c112aaf",
   "metadata": {},
   "source": [
    "## Theory"
   ]
  },
  {
   "cell_type": "markdown",
   "id": "daf5366a",
   "metadata": {},
   "source": [
    "The Traveling Salesman Problem (TSP), often expressed using the Miller–Tucker–Zemlin (MTZ) formulation, is a classic problem in optimization and graph theory. It aims to find the shortest possible route that visits each destination node exactly once and returns to the starting point (origin). In graph theory, this corresponds to a minimum-cost Hamiltonian cycle, which is a closed path that visits every vertex once. Such a cycle always exists if the network is complete, meaning every pair of nodes is linked by an edge.\n",
    "\n",
    "The MTZ part is there to handle the elimination of subtours, it does this by introducing a new variable $u_i$ for each node we need to visit (excluding the origin) and this variable will corespond with the order we will visit the nodes. It is expressed as following:\n",
    "\n",
    "$u_i - u_j + px_{i,j} \\leq p-1 \\quad (1 \\leq i \\neq j \\leq n)$\n",
    "\n",
    "This will thus eliminate all subtours because for a subtour to exist there need to exist a cycle from $x_{a,b},\\ldots,x_{g,a}$ where all the $x$'s are 1 but this contradicts the increasing nature of the constraint. One could say that the MTZ forces the model to find a path between all the destination nodes. Notice that $p\\cdot t \\geq n$ this is to ensure the routes are long enough\n",
    "\n",
    "The TSP can thus be formulated as following when $t=1$ else its a Vehicle Routing Problem (VRP)\n",
    "$$\n",
    "\\min_{x} \\sum_{i=0}^{n}\\sum_{j=0,\\\\ i\\neq j}^{n} c_{i,j} x_{i,j} \\\\\n",
    "s.t \\\\\n",
    "\\sum_{i=0, i\\neq j}^{n} x_{i,j} = 1 \\quad (j = 1,\\ldots,n) \\quad \\text{Inflow constraint} \\\\\n",
    "\\sum_{j=0, j\\neq i}^{n} x_{i,j} = 1 \\quad (i = 1,\\ldots,n) \\quad \\text{Outflow constraint} \\\\\n",
    "u_i - u_j + px_{i,j} \\leq p-1 \\quad (1 \\leq i \\neq j \\leq n) \\quad \\text{MTZ subtour elimination}  \\\\\n",
    "\\sum_{i=1}^{n} x_{i,0} = t \\quad \\text{Inflow constraint from origin} \\\\\n",
    "\\sum_{j=1}^{n} x_{0,j} = t \\quad \\text{Outflow constraint from origin} \\\\\n",
    "x_{i,j} \\in \\{0,1\\} \\quad \\forall i,j\\\\\n",
    "u_{j} \\in Z^{+} \\quad \\forall j\n",
    "\n",
    "$$\n",
    "Observe I use 0 indexing to handle the origin, Assume aswell that there are no self loop and that we are working with the standard traveling salesman problem where we only allow one tour from the origin, $t=1$ and can thus let $p=n$.\n",
    "$$\n",
    "\\min_{x} \\sum_{i=0}^{n}\\sum_{j=0,\\\\ i\\neq j}^{n} c_{i,j} x_{i,j} \\\\\n",
    "s.t \\\\\n",
    "\\sum_{i=0, i\\neq j}^{n} x_{i,j} = 1 \\quad (j = 0,\\ldots,n) \\quad \\text{Inflow constraint} \\\\\n",
    "\\sum_{j=0, j\\neq i}^{n} x_{i,j} = 1 \\quad (i = 0,\\ldots,n) \\quad \\text{Outflow constraint} \\\\\n",
    "u_i - u_j + nx_{i,j} \\leq n-1 \\quad (1 \\leq i \\neq j \\leq n) \\quad \\text{MTZ subtour elimination}\\\\\n",
    "x_{i,j} \\in \\{0,1\\} \\quad \\forall i,j\\\\\n",
    "u_{j} \\in Z^{+} \\quad \\forall j\n",
    "$$"
   ]
  },
  {
   "cell_type": "markdown",
   "id": "2b369038",
   "metadata": {},
   "source": [
    "## Code"
   ]
  },
  {
   "cell_type": "code",
   "execution_count": null,
   "id": "946be5b6",
   "metadata": {},
   "outputs": [],
   "source": [
    "def build_tsp_mtz(dist) -> pyo.Model: # GPT-5 GENERATED with alot of modifications\n",
    "    \"\"\"\n",
    "    Pyomo MTZ TSP model (depot = 0), with clean domains (no 'if' inside rules).\n",
    "    Args:\n",
    "        dist: square cost/distance matrix-like (n x n), index 0..n-1\n",
    "    Returns:\n",
    "        pyo.Model\n",
    "    \"\"\"\n",
    "    n = len(dist)\n",
    "    P = n  # MTZ constant\n",
    "\n",
    "    m = pyo.ConcreteModel()\n",
    "\n",
    "    # --- Sets (domains) ---\n",
    "    m.V   = pyo.Set(initialize=range(n), ordered=True)                # all nodes {0..n-1}\n",
    "    m.Vnd = pyo.Set(initialize=range(1, n), ordered=True)             # non-depot nodes {1..n-1}\n",
    "    m.A   = pyo.Set(dimen=2, initialize=[(i, j) for i in range(n) for j in range(n) if i != j])\n",
    "    # pairs used in MTZ (exclude depot and diagonals)\n",
    "    m.MTZPairs = pyo.Set(dimen=2, initialize=[(i, j) for i in range(1, n) for j in range(1, n) if i != j])\n",
    "\n",
    "    # --- Parameters ---\n",
    "    def c_rule(m, i, j):\n",
    "        return float(dist[i][j])\n",
    "    m.c = pyo.Param(m.A, initialize=c_rule, within=pyo.NonNegativeReals, mutable=False)\n",
    "\n",
    "    # --- Decision variables ---\n",
    "    m.x = pyo.Var(m.A, within=pyo.Binary)   # arc selection\n",
    "    m.u = pyo.Var(m.V, within=pyo.Reals)    # MTZ order variables\n",
    "\n",
    "    # --- Objective ---\n",
    "    m.obj = pyo.Objective(expr=sum(m.c[i, j] * m.x[i, j] for (i, j) in m.A), sense=pyo.minimize)\n",
    "\n",
    "    # --- Degree constraints (enter once, leave once) ---\n",
    "    m.outdeg = pyo.Constraint(m.V, rule=lambda m, i: sum(m.x[i, j] for j in m.V if j != i) == 1)\n",
    "    m.indeg  = pyo.Constraint(m.V, rule=lambda m, j: sum(m.x[i, j] for i in m.V if i != j) == 1)\n",
    "\n",
    "    # --- MTZ: fix depot and bound non-depot u's WITHOUT 'if' in rules --- # UNECESSARY GPT GENERATED \n",
    "    # Fix depot order\n",
    "    #m.u[0].fix(1)\n",
    "    # Bounds for non-depot nodes via constraints (instead of conditional bounds rule)\n",
    "    #m.u_lb = pyo.Constraint(m.Vnd, rule=lambda m, i: m.u[i] >= 2)\n",
    "    #m.u_ub = pyo.Constraint(m.Vnd, rule=lambda m, i: m.u[i] <= P)\n",
    "\n",
    "    # MTZ subtour-elimination (domain already excludes depot and i==j)\n",
    "    m.mtz = pyo.Constraint(m.MTZPairs, rule=lambda m, i, j: m.u[i] - m.u[j] + P * m.x[i, j] <= P - 1)\n",
    "\n",
    "    # Optional Gurobi suffixes (import duals/reduced costs if needed)\n",
    "    m.dual = pyo.Suffix(direction=pyo.Suffix.IMPORT)\n",
    "    m.rc   = pyo.Suffix(direction=pyo.Suffix.IMPORT)\n",
    "\n",
    "    return m\n"
   ]
  },
  {
   "cell_type": "code",
   "execution_count": null,
   "id": "2bcf7dca",
   "metadata": {},
   "outputs": [
    {
     "ename": "KeyError",
     "evalue": "'dist_matrix'",
     "output_type": "error",
     "traceback": [
      "\u001b[31m---------------------------------------------------------------------------\u001b[39m",
      "\u001b[31mKeyError\u001b[39m                                  Traceback (most recent call last)",
      "\u001b[36mCell\u001b[39m\u001b[36m \u001b[39m\u001b[32mIn[14]\u001b[39m\u001b[32m, line 4\u001b[39m\n\u001b[32m      1\u001b[39m \u001b[38;5;28;01mfor\u001b[39;00m problem \u001b[38;5;129;01min\u001b[39;00m [\u001b[33m'\u001b[39m\u001b[33mberlin52.tsp\u001b[39m\u001b[33m'\u001b[39m, \u001b[33m'\u001b[39m\u001b[33mlin318.tsp\u001b[39m\u001b[33m'\u001b[39m, \u001b[33m'\u001b[39m\u001b[33mst70.tsp\u001b[39m\u001b[33m'\u001b[39m, \u001b[33m'\u001b[39m\u001b[33mts225\u001b[39m\u001b[33m'\u001b[39m, \u001b[33m'\u001b[39m\u001b[33mulysses16.tsp\u001b[39m\u001b[33m'\u001b[39m, \u001b[33m'\u001b[39m\u001b[33mulysses22.tsp\u001b[39m\u001b[33m'\u001b[39m]:\n\u001b[32m      2\u001b[39m     data = parse_tsplib(\u001b[33mf\u001b[39m\u001b[33m'\u001b[39m\u001b[33mCore/\u001b[39m\u001b[38;5;132;01m{\u001b[39;00mproblem\u001b[38;5;132;01m}\u001b[39;00m\u001b[33m'\u001b[39m) \u001b[38;5;66;03m# Data parsing\u001b[39;00m\n\u001b[32m----> \u001b[39m\u001b[32m4\u001b[39m     model = build_tsp_mtz(\u001b[43mdata\u001b[49m\u001b[43m[\u001b[49m\u001b[33;43m'\u001b[39;49m\u001b[33;43mdist_matrix\u001b[39;49m\u001b[33;43m'\u001b[39;49m\u001b[43m]\u001b[49m) \u001b[38;5;66;03m# Model building\u001b[39;00m\n\u001b[32m      6\u001b[39m     \u001b[38;5;28;01mwith\u001b[39;00m SolverFactory( \u001b[38;5;66;03m# Model Solving\u001b[39;00m\n\u001b[32m      7\u001b[39m     \u001b[33m'\u001b[39m\u001b[33mgurobi\u001b[39m\u001b[33m'\u001b[39m, solver_io=\u001b[33m'\u001b[39m\u001b[33mpython\u001b[39m\u001b[33m'\u001b[39m, manage_env=\u001b[38;5;28;01mTrue\u001b[39;00m, options=opt\n\u001b[32m      8\u001b[39m     ) \u001b[38;5;28;01mas\u001b[39;00m solver:\n\u001b[32m      9\u001b[39m         solver.solve(\n\u001b[32m     10\u001b[39m             model,\n\u001b[32m     11\u001b[39m             tee=\u001b[38;5;28;01mTrue\u001b[39;00m,\n\u001b[32m   (...)\u001b[39m\u001b[32m     24\u001b[39m             }\n\u001b[32m     25\u001b[39m         ) \n",
      "\u001b[31mKeyError\u001b[39m: 'dist_matrix'"
     ]
    }
   ],
   "source": [
    "for problem in ['berlin52.tsp', 'lin318.tsp', 'st70.tsp', 'ts225', 'ulysses16.tsp', 'ulysses22.tsp']:\n",
    "    data = parse_tsplib(f'Core/{problem}') # Data parsing\n",
    "    \n",
    "    model = build_tsp_mtz(data['dist']) # Model building\n",
    "\n",
    "    with SolverFactory( # Model Solving\n",
    "    'gurobi', solver_io='python', manage_env=True, options=opt\n",
    "    ) as solver:\n",
    "        solver.solve(\n",
    "            model,\n",
    "            tee=True,\n",
    "            options={\n",
    "                #\"Method\": 1,        # Dual Simplex (avoid barrier)\n",
    "                #\"Crossover\": 0,     # No crossover\n",
    "                #\"Presolve\": 2,\n",
    "                #\"MIPFocus\": 1,      # Focus on finding feasible routes\n",
    "                #\"Heuristics\": 0.2,\n",
    "                #\"Cuts\": 2,\n",
    "                #\"Symmetry\": 2,\n",
    "                \"TimeLimit\": 300,\n",
    "                #\"MIPGap\": 0.01,\n",
    "                # \"Threads\": 0,     # use all cores (uncomment if you want to pin threads)\n",
    "                # \"LogFile\": \"gurobi_cvrp.log\",\n",
    "            }\n",
    "        ) \n",
    "\n",
    "    plot_tsp_solution(model, data['coords'], title=f'TSP MTZ Solution for {problem}') # Plotting\n",
    "    print_route_summary(model, data['dist']) # Route summary"
   ]
  }
 ],
 "metadata": {
  "kernelspec": {
   "display_name": ".conda",
   "language": "python",
   "name": "python3"
  },
  "language_info": {
   "codemirror_mode": {
    "name": "ipython",
    "version": 3
   },
   "file_extension": ".py",
   "mimetype": "text/x-python",
   "name": "python",
   "nbconvert_exporter": "python",
   "pygments_lexer": "ipython3",
   "version": "3.11.13"
  }
 },
 "nbformat": 4,
 "nbformat_minor": 5
}
